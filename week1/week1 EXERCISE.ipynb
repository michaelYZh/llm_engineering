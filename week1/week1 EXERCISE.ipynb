{
 "cells": [
  {
   "cell_type": "markdown",
   "id": "fe12c203-e6a6-452c-a655-afb8a03a4ff5",
   "metadata": {},
   "source": [
    "# End of week 1 exercise\n",
    "\n",
    "To demonstrate your familiarity with OpenAI API, and also Ollama, build a tool that takes a technical question,  \n",
    "and responds with an explanation. This is a tool that you will be able to use yourself during the course!"
   ]
  },
  {
   "cell_type": "code",
   "execution_count": 1,
   "id": "c1070317-3ed9-4659-abe3-828943230e03",
   "metadata": {},
   "outputs": [],
   "source": [
    "# imports\n",
    "import os\n",
    "from dotenv import load_dotenv\n",
    "from IPython.display import Markdown, display, update_display\n",
    "from openai import OpenAI"
   ]
  },
  {
   "cell_type": "code",
   "execution_count": 2,
   "id": "4a456906-915a-4bfd-bb9d-57e505c5093f",
   "metadata": {},
   "outputs": [],
   "source": [
    "# constants\n",
    "\n",
    "MODEL_GPT = 'gpt-4o-mini'\n",
    "MODEL_LLAMA = 'llama3.2'"
   ]
  },
  {
   "cell_type": "code",
   "execution_count": 10,
   "id": "a8d7923c-5f28-4c30-8556-342d7c8497c1",
   "metadata": {},
   "outputs": [
    {
     "name": "stdout",
     "output_type": "stream",
     "text": [
      "API key looks good so far\n"
     ]
    }
   ],
   "source": [
    "# set up environment\n",
    "load_dotenv(override=True)\n",
    "api_key = os.getenv('OPENAI_API_KEY')\n",
    "\n",
    "if api_key and api_key.startswith('sk-proj-') and len(api_key)>10:\n",
    "    print(\"API key looks good so far\")\n",
    "else:\n",
    "    print(\"There might be a problem with your API key? Please visit the troubleshooting notebook!\")\n",
    "    \n",
    "openai = OpenAI()\n",
    "\n",
    "OLLAMA_BASE_URL = \"http://localhost:11434/v1\"\n",
    "ollama = OpenAI(base_url=OLLAMA_BASE_URL, api_key='ollama')"
   ]
  },
  {
   "cell_type": "code",
   "execution_count": 8,
   "id": "3f0d0137-52b0-47a8-81a8-11a90a010798",
   "metadata": {},
   "outputs": [],
   "source": [
    "# here is the question; type over this to ask something new\n",
    "code = \"\"\"\n",
    "yield from {book.get(\"author\") for book in books if book.get(\"author\")}\n",
    "\"\"\"\n",
    "\n",
    "system_prompt = \"\"\"\n",
    "You are a helpful assistant that can explain code.\n",
    "\"\"\"\n",
    "\n",
    "def get_tech_explanation(code, company, model):\n",
    "\n",
    "    user_prompt = f\"\"\"\n",
    "    Please explain what this code does and why:\n",
    "    {code}\n",
    "    \"\"\"\n",
    "    stream = company.chat.completions.create(\n",
    "        model=model,\n",
    "        messages=[\n",
    "            {\"role\": \"system\", \"content\": system_prompt},\n",
    "            {\"role\": \"user\", \"content\": user_prompt}\n",
    "        ],\n",
    "        stream=True\n",
    "    )\n",
    "    response = \"\"\n",
    "    display_handle = display(Markdown(\"\"), display_id=True)\n",
    "    for chunk in stream:\n",
    "        response += chunk.choices[0].delta.content or ''\n",
    "        update_display(Markdown(response), display_id=display_handle.display_id)"
   ]
  },
  {
   "cell_type": "code",
   "execution_count": 9,
   "id": "60ce7000-a4a5-4cce-a261-e75ef45063b4",
   "metadata": {},
   "outputs": [
    {
     "data": {
      "text/markdown": [
       "Certainly! Let's break down the code snippet you provided:\n",
       "\n",
       "```python\n",
       "yield from {book.get(\"author\") for book in books if book.get(\"author\")}\n",
       "```\n",
       "\n",
       "### Explanation\n",
       "\n",
       "1. **Context**: This code is likely written inside a generator function, indicated by the use of `yield`. The `yield from` syntax is used to delegate part of the generator's operations to another iterable.\n",
       "\n",
       "2. **Set Comprehension**: The part within the curly braces `{...}` is using a set comprehension. A set comprehension constructs a set in Python, which is a collection of unique elements. \n",
       "\n",
       "3. **Iterating over `books`**: \n",
       "   - `for book in books`: This part of the comprehension iterates over a collection called `books`, which is presumably a list (or another iterable) of dictionary-like objects representing books.\n",
       "\n",
       "4. **Getting the Author**:\n",
       "   - `book.get(\"author\")`: This method gets the value associated with the key `\"author\"` in each dictionary. If the key does not exist, it returns `None` (or could return a default value if specified).\n",
       "\n",
       "5. **Conditional Filtering**:\n",
       "   - `if book.get(\"author\")`: This condition filters out any books that do not have an author specified (i.e., it only includes `book` entries where the author is not `None` or a falsy value). \n",
       "\n",
       "6. **Setting Unique Authors**: \n",
       "   - The result of the set comprehension is a set of authors - `book.get(\"author\")` will only yield those authors who are present and non-empty (truthy values according to Python’s truthiness evaluation).\n",
       "\n",
       "7. **Yielding Authors**: \n",
       "   - `yield from {...}`: Finally, the `yield from` expression is used to yield all elements of the resulting set of authors one by one, effectively allowing each author to be produced by the generator function.\n",
       "\n",
       "### In Summary\n",
       "\n",
       "This line of code constructs a set of unique authors from a list of book dictionaries (`books`), ensuring that only those with defined authors are included. Then, it yields each unique author one at a time. Using `yield from` allows for efficient iteration and provides a sequence of authors as a part of the generator's output. \n",
       "\n",
       "This can be particularly useful in contexts where you want to process or display unique authors without needing to handle duplicates."
      ],
      "text/plain": [
       "<IPython.core.display.Markdown object>"
      ]
     },
     "metadata": {},
     "output_type": "display_data"
    }
   ],
   "source": [
    "# Get gpt-4o-mini to answer, with streaming\n",
    "get_tech_explanation(code, openai, MODEL_GPT)"
   ]
  },
  {
   "cell_type": "code",
   "execution_count": 11,
   "id": "8f7c8ea8-4082-4ad0-8751-3301adcf6538",
   "metadata": {},
   "outputs": [
    {
     "data": {
      "text/markdown": [
       "**Explanation of the Code**\n",
       "\n",
       "This line of code uses Python's `yield` keyword with the `from` clause to destructure a list comprehension.\n",
       "\n",
       "Here's a breakdown:\n",
       "\n",
       "- `{book.get(\"author\") for book in books if book.get(\"author\")}`: This is an instance of list comprehension. It iterates over each item (`book`) in the `books` collection (which we assume is a list or other iterable), checks if the item has a key `\"author\"` and its value is not None/empty, and then includes it in the resulting sequence.\n",
       "  \n",
       "- `(yield from ...)`: This part of the code deconstructs the sequence produced by the inner list comprehension. Instead of returning the result as an object (which would only be returned once, after all iteration is exhausted in the `yield` loop), this expression returns a generator that produces each item one at a time.\n",
       "\n",
       "**The Purpose and Output**\n",
       "\n",
       "So what exactly does it do?\n",
       "\n",
       "It yields all the values corresponding to the `\"author\"` key in the items of `books`.\n",
       "\n",
       "This way, instead of storing all matching authors in some intermediate data structure (which could be inefficient for large datasets), this generator produces them on-the-fly as they are requested.\n",
       "\n",
       "For your convenience, I can show you an example.\n",
       "\n",
       "```python\n",
       "class Book:\n",
       "    def __init__(self, title, author):\n",
       "        self.title = title\n",
       "        self.author = author\n",
       "\n",
       "books = [\n",
       "    Book(\"Book 1\", \"Author A\"),\n",
       "    Book(\"Book 2\", None),\n",
       "    Book(\"Book 3\", \"Author C\")\n",
       "]\n",
       "\n",
       "for authors in yield from {book.get(\"author\") for book in books if book.get(\"author\")}:\n",
       "    print(authors) # prints: 'Author A'\n",
       "```\n",
       "In the above example, `yield from` is used with a dictionary comprehension to destructure all matching strings into individual string."
      ],
      "text/plain": [
       "<IPython.core.display.Markdown object>"
      ]
     },
     "metadata": {},
     "output_type": "display_data"
    }
   ],
   "source": [
    "# Get Llama 3.2 to answer\n",
    "get_tech_explanation(code, ollama, MODEL_LLAMA)"
   ]
  }
 ],
 "metadata": {
  "kernelspec": {
   "display_name": ".venv",
   "language": "python",
   "name": "python3"
  },
  "language_info": {
   "codemirror_mode": {
    "name": "ipython",
    "version": 3
   },
   "file_extension": ".py",
   "mimetype": "text/x-python",
   "name": "python",
   "nbconvert_exporter": "python",
   "pygments_lexer": "ipython3",
   "version": "3.12.12"
  }
 },
 "nbformat": 4,
 "nbformat_minor": 5
}
